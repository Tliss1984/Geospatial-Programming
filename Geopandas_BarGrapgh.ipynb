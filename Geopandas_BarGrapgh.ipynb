{
 "cells": [
  {
   "cell_type": "code",
   "execution_count": 8,
   "metadata": {},
   "outputs": [],
   "source": [
    "import geopandas as gpd\n",
    "\n",
    "import pandas as pd\n",
    "import matplotlib"
   ]
  },
  {
   "cell_type": "code",
   "execution_count": 9,
   "metadata": {},
   "outputs": [],
   "source": [
    "assignment= gpd.read_file('/Users/tory/Desktop/esthab/esthab/ESTHAB_POLY.shp')"
   ]
  },
  {
   "cell_type": "code",
   "execution_count": 10,
   "metadata": {},
   "outputs": [],
   "source": [
    "Sgraph = assignment.head()"
   ]
  },
  {
   "cell_type": "code",
   "execution_count": 11,
   "metadata": {},
   "outputs": [
    {
     "data": {
      "text/html": [
       "<div>\n",
       "<style scoped>\n",
       "    .dataframe tbody tr th:only-of-type {\n",
       "        vertical-align: middle;\n",
       "    }\n",
       "\n",
       "    .dataframe tbody tr th {\n",
       "        vertical-align: top;\n",
       "    }\n",
       "\n",
       "    .dataframe thead th {\n",
       "        text-align: right;\n",
       "    }\n",
       "</style>\n",
       "<table border=\"1\" class=\"dataframe\">\n",
       "  <thead>\n",
       "    <tr style=\"text-align: right;\">\n",
       "      <th></th>\n",
       "      <th>ESTHAB_ID</th>\n",
       "      <th>VERSION</th>\n",
       "      <th>SHAPE_AREA</th>\n",
       "      <th>SHAPE_LEN</th>\n",
       "      <th>geometry</th>\n",
       "    </tr>\n",
       "  </thead>\n",
       "  <tbody>\n",
       "    <tr>\n",
       "      <td>0</td>\n",
       "      <td>EH 16</td>\n",
       "      <td>14th Ed. Heritage Atlas - Effective August 1, ...</td>\n",
       "      <td>92964.483143</td>\n",
       "      <td>2267.772285</td>\n",
       "      <td>POLYGON ((323428.401 783383.593, 323435.360 78...</td>\n",
       "    </tr>\n",
       "    <tr>\n",
       "      <td>1</td>\n",
       "      <td>EH 17</td>\n",
       "      <td>14th Ed. Heritage Atlas - Effective August 1, ...</td>\n",
       "      <td>3456.238297</td>\n",
       "      <td>233.002293</td>\n",
       "      <td>POLYGON ((323729.842 783432.721, 323731.794 78...</td>\n",
       "    </tr>\n",
       "    <tr>\n",
       "      <td>2</td>\n",
       "      <td>EH 18</td>\n",
       "      <td>14th Ed. Heritage Atlas - Effective August 1, ...</td>\n",
       "      <td>3724.319373</td>\n",
       "      <td>221.753037</td>\n",
       "      <td>POLYGON ((322905.525 783420.061, 322902.555 78...</td>\n",
       "    </tr>\n",
       "    <tr>\n",
       "      <td>3</td>\n",
       "      <td>EH 19</td>\n",
       "      <td>14th Ed. Heritage Atlas - Effective August 1, ...</td>\n",
       "      <td>355382.063572</td>\n",
       "      <td>3273.121960</td>\n",
       "      <td>POLYGON ((320806.148 783301.535, 320806.381 78...</td>\n",
       "    </tr>\n",
       "    <tr>\n",
       "      <td>4</td>\n",
       "      <td>EH 20</td>\n",
       "      <td>14th Ed. Heritage Atlas - Effective August 1, ...</td>\n",
       "      <td>20398.636597</td>\n",
       "      <td>549.214270</td>\n",
       "      <td>POLYGON ((322716.137 783365.176, 322707.198 78...</td>\n",
       "    </tr>\n",
       "  </tbody>\n",
       "</table>\n",
       "</div>"
      ],
      "text/plain": [
       "  ESTHAB_ID                                            VERSION     SHAPE_AREA  \\\n",
       "0     EH 16  14th Ed. Heritage Atlas - Effective August 1, ...   92964.483143   \n",
       "1     EH 17  14th Ed. Heritage Atlas - Effective August 1, ...    3456.238297   \n",
       "2     EH 18  14th Ed. Heritage Atlas - Effective August 1, ...    3724.319373   \n",
       "3     EH 19  14th Ed. Heritage Atlas - Effective August 1, ...  355382.063572   \n",
       "4     EH 20  14th Ed. Heritage Atlas - Effective August 1, ...   20398.636597   \n",
       "\n",
       "     SHAPE_LEN                                           geometry  \n",
       "0  2267.772285  POLYGON ((323428.401 783383.593, 323435.360 78...  \n",
       "1   233.002293  POLYGON ((323729.842 783432.721, 323731.794 78...  \n",
       "2   221.753037  POLYGON ((322905.525 783420.061, 322902.555 78...  \n",
       "3  3273.121960  POLYGON ((320806.148 783301.535, 320806.381 78...  \n",
       "4   549.214270  POLYGON ((322716.137 783365.176, 322707.198 78...  "
      ]
     },
     "execution_count": 11,
     "metadata": {},
     "output_type": "execute_result"
    }
   ],
   "source": [
    "Sgraph"
   ]
  },
  {
   "cell_type": "code",
   "execution_count": 12,
   "metadata": {},
   "outputs": [
    {
     "data": {
      "text/plain": [
       "<matplotlib.axes._subplots.AxesSubplot at 0x7fe973103350>"
      ]
     },
     "execution_count": 12,
     "metadata": {},
     "output_type": "execute_result"
    },
    {
     "data": {
      "image/png": "[encoded data removed]",
      "text/plain": [
       "<Figure size 432x288 with 1 Axes>"
      ]
     },
     "metadata": {
      "needs_background": "light"
     },
     "output_type": "display_data"
    }
   ],
   "source": [
    "Sgraph.SHAPE_AREA.plot.bar(x=\"area\")"
   ]
  },
  {
   "cell_type": "code",
   "execution_count": null,
   "metadata": {},
   "outputs": [],
   "source": []
  }
 ],
 "metadata": {
  "kernelspec": {
   "display_name": "Python 3",
   "language": "python",
   "name": "python3"
  },
  "language_info": {
   "codemirror_mode": {
    "name": "ipython",
    "version": 3
   },
   "file_extension": ".py",
   "mimetype": "text/x-python",
   "name": "python",
   "nbconvert_exporter": "python",
   "pygments_lexer": "ipython3",
   "version": "3.7.4"
  }
 },
 "nbformat": 4,
 "nbformat_minor": 2
}
